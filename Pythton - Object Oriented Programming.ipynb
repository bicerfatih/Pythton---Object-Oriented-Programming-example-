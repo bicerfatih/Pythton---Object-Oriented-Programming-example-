{
 "cells": [
  {
   "cell_type": "code",
   "execution_count": 80,
   "id": "dd90a590",
   "metadata": {},
   "outputs": [],
   "source": [
    "class Employee():\n",
    "    def __init__ (self,name,last_name,age):\n",
    "        self.name = name\n",
    "        self.last_name = last_name\n",
    "        self.age = age\n",
    "    def __str__ (self):\n",
    "        return (f\"{self.name}, {self.last_name}, {self.age}\")\n",
    "    def __len__(self):\n",
    "        return self.age\n",
    "    def __del__(self):\n",
    "        print ('It is deleted')"
   ]
  },
  {
   "cell_type": "code",
   "execution_count": 81,
   "id": "34b7e758",
   "metadata": {},
   "outputs": [],
   "source": [
    "x = Employee('Jack', 'Bicer', 34)"
   ]
  },
  {
   "cell_type": "code",
   "execution_count": 82,
   "id": "c9b032d3",
   "metadata": {},
   "outputs": [
    {
     "data": {
      "text/plain": [
       "'Jack'"
      ]
     },
     "execution_count": 82,
     "metadata": {},
     "output_type": "execute_result"
    }
   ],
   "source": [
    "x.name"
   ]
  },
  {
   "cell_type": "code",
   "execution_count": 83,
   "id": "9f830e33",
   "metadata": {},
   "outputs": [
    {
     "data": {
      "text/plain": [
       "'Bicer'"
      ]
     },
     "execution_count": 83,
     "metadata": {},
     "output_type": "execute_result"
    }
   ],
   "source": [
    "x.last_name"
   ]
  },
  {
   "cell_type": "code",
   "execution_count": 84,
   "id": "10d23d08",
   "metadata": {},
   "outputs": [
    {
     "data": {
      "text/plain": [
       "34"
      ]
     },
     "execution_count": 84,
     "metadata": {},
     "output_type": "execute_result"
    }
   ],
   "source": [
    "x.age"
   ]
  },
  {
   "cell_type": "code",
   "execution_count": 85,
   "id": "13d826fb",
   "metadata": {},
   "outputs": [
    {
     "name": "stdout",
     "output_type": "stream",
     "text": [
      "Jack, Bicer, 34\n"
     ]
    }
   ],
   "source": [
    "print(x)"
   ]
  },
  {
   "cell_type": "code",
   "execution_count": 86,
   "id": "7e216e9c",
   "metadata": {},
   "outputs": [
    {
     "data": {
      "text/plain": [
       "'Jack, Bicer, 34'"
      ]
     },
     "execution_count": 86,
     "metadata": {},
     "output_type": "execute_result"
    }
   ],
   "source": [
    "str(x)"
   ]
  },
  {
   "cell_type": "code",
   "execution_count": 87,
   "id": "8ebce6cc",
   "metadata": {},
   "outputs": [
    {
     "data": {
      "text/plain": [
       "34"
      ]
     },
     "execution_count": 87,
     "metadata": {},
     "output_type": "execute_result"
    }
   ],
   "source": [
    "len(x)"
   ]
  },
  {
   "cell_type": "code",
   "execution_count": 88,
   "id": "10b25a2d",
   "metadata": {},
   "outputs": [
    {
     "name": "stdout",
     "output_type": "stream",
     "text": [
      "It is deleted\n"
     ]
    }
   ],
   "source": [
    "del(x)"
   ]
  },
  {
   "cell_type": "code",
   "execution_count": null,
   "id": "a31bda04",
   "metadata": {},
   "outputs": [],
   "source": []
  },
  {
   "cell_type": "code",
   "execution_count": null,
   "id": "f4bed082",
   "metadata": {},
   "outputs": [],
   "source": []
  },
  {
   "cell_type": "code",
   "execution_count": null,
   "id": "dafe3ffe",
   "metadata": {},
   "outputs": [],
   "source": []
  },
  {
   "cell_type": "code",
   "execution_count": null,
   "id": "0529462f",
   "metadata": {},
   "outputs": [],
   "source": []
  },
  {
   "cell_type": "code",
   "execution_count": null,
   "id": "6d0417b8",
   "metadata": {},
   "outputs": [],
   "source": []
  },
  {
   "cell_type": "code",
   "execution_count": null,
   "id": "a4c8b60b",
   "metadata": {},
   "outputs": [],
   "source": []
  }
 ],
 "metadata": {
  "kernelspec": {
   "display_name": "Python 3 (ipykernel)",
   "language": "python",
   "name": "python3"
  },
  "language_info": {
   "codemirror_mode": {
    "name": "ipython",
    "version": 3
   },
   "file_extension": ".py",
   "mimetype": "text/x-python",
   "name": "python",
   "nbconvert_exporter": "python",
   "pygments_lexer": "ipython3",
   "version": "3.9.12"
  }
 },
 "nbformat": 4,
 "nbformat_minor": 5
}
